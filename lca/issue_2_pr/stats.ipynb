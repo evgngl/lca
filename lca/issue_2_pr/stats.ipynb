{
 "cells": [
  {
   "cell_type": "code",
   "execution_count": 61,
   "outputs": [],
   "source": [
    "data_path = '../../data'"
   ],
   "metadata": {
    "collapsed": false,
    "ExecuteTime": {
     "end_time": "2023-07-18T15:16:01.099902Z",
     "start_time": "2023-07-18T15:16:01.096168Z"
    }
   }
  },
  {
   "cell_type": "code",
   "execution_count": 62,
   "outputs": [],
   "source": [
    "from collections import defaultdict\n",
    "import json\n",
    "import os\n",
    "\n",
    "repo_to_events = defaultdict(list)\n",
    "for file in os.listdir(data_path):\n",
    "    file_path = os.path.join(data_path, file)\n",
    "    if os.path.isfile(file_path):\n",
    "        with open(file_path, \"r\") as f:\n",
    "            for line in f:\n",
    "                data = json.loads(line)\n",
    "                repo_to_events[file].append(data)"
   ],
   "metadata": {
    "collapsed": false,
    "ExecuteTime": {
     "end_time": "2023-07-18T16:25:10.501266Z",
     "start_time": "2023-07-18T15:20:40.440042Z"
    }
   }
  },
  {
   "cell_type": "code",
   "execution_count": 63,
   "outputs": [
    {
     "name": "stdout",
     "output_type": "stream",
     "text": [
      "4343\n"
     ]
    }
   ],
   "source": [
    "print(len(repo_to_events))"
   ],
   "metadata": {
    "collapsed": false,
    "ExecuteTime": {
     "end_time": "2023-07-18T16:25:10.514111Z",
     "start_time": "2023-07-18T16:25:10.510166Z"
    }
   }
  },
  {
   "cell_type": "code",
   "execution_count": 64,
   "outputs": [
    {
     "name": "stdout",
     "output_type": "stream",
     "text": [
      "rollup__plugins.jsonl\n"
     ]
    }
   ],
   "source": [
    "repo = list(repo_to_events.keys())[0]\n",
    "print(repo)"
   ],
   "metadata": {
    "collapsed": false,
    "ExecuteTime": {
     "end_time": "2023-07-18T16:25:10.547628Z",
     "start_time": "2023-07-18T16:25:10.547319Z"
    }
   }
  },
  {
   "cell_type": "code",
   "execution_count": 65,
   "outputs": [
    {
     "name": "stdout",
     "output_type": "stream",
     "text": [
      "Issue content example:\n",
      "{\n",
      "    \"url\": \"https://api.github.com/repos/rollup/plugins/issues/1535\",\n",
      "    \"repository_url\": \"https://api.github.com/repos/rollup/plugins\",\n",
      "    \"labels_url\": \"https://api.github.com/repos/rollup/plugins/issues/1535/labels{/name}\",\n",
      "    \"comments_url\": \"https://api.github.com/repos/rollup/plugins/issues/1535/comments\",\n",
      "    \"events_url\": \"https://api.github.com/repos/rollup/plugins/issues/1535/events\",\n",
      "    \"html_url\": \"https://github.com/rollup/plugins/issues/1535\",\n",
      "    \"id\": 1797991241,\n",
      "    \"node_id\": \"I_kwDODCLPqc5rKytJ\",\n",
      "    \"number\": 1535,\n",
      "    \"title\": \"allowImportingTsExtensions warning\",\n",
      "    \"user\": {\n",
      "        \"login\": \"dinghui-wang\",\n",
      "        \"id\": 61412262,\n",
      "        \"node_id\": \"MDQ6VXNlcjYxNDEyMjYy\",\n",
      "        \"avatar_url\": \"https://avatars.githubusercontent.com/u/61412262?v=4\",\n",
      "        \"gravatar_id\": \"\",\n",
      "        \"url\": \"https://api.github.com/users/dinghui-wang\",\n",
      "        \"html_url\": \"https://github.com/dinghui-wang\",\n",
      "        \"followers_url\": \"https://api.github.com/users/dinghui-wang/followers\",\n",
      "        \"following_url\": \"https://api.github.com/users/dinghui-wang/following{/other_user}\",\n",
      "        \"gists_url\": \"https://api.github.com/users/dinghui-wang/gists{/gist_id}\",\n",
      "        \"starred_url\": \"https://api.github.com/users/dinghui-wang/starred{/owner}{/repo}\",\n",
      "        \"subscriptions_url\": \"https://api.github.com/users/dinghui-wang/subscriptions\",\n",
      "        \"organizations_url\": \"https://api.github.com/users/dinghui-wang/orgs\",\n",
      "        \"repos_url\": \"https://api.github.com/users/dinghui-wang/repos\",\n",
      "        \"events_url\": \"https://api.github.com/users/dinghui-wang/events{/privacy}\",\n",
      "        \"received_events_url\": \"https://api.github.com/users/dinghui-wang/received_events\",\n",
      "        \"type\": \"User\",\n",
      "        \"site_admin\": false\n",
      "    },\n",
      "    \"labels\": [],\n",
      "    \"state\": \"closed\",\n",
      "    \"locked\": true,\n",
      "    \"assignee\": null,\n",
      "    \"assignees\": [],\n",
      "    \"milestone\": null,\n",
      "    \"comments\": 0,\n",
      "    \"created_at\": \"2023-07-11T03:09:13Z\",\n",
      "    \"updated_at\": \"2023-07-11T03:11:53Z\",\n",
      "    \"closed_at\": \"2023-07-11T03:11:53Z\",\n",
      "    \"author_association\": \"NONE\",\n",
      "    \"active_lock_reason\": null,\n",
      "    \"body\": \"tsconfig.json has \\\"noEmit\\\" set: true,\\r\\nBut  warning\\uff1a\\r\\n(!) Plugin typescript: @rollup/plugin-typescript TS5096: Option 'allowImportingTsExtensions' can only be used when either 'noEmit' or 'emitDeclarationOnly' is set.\",\n",
      "    \"reactions\": {\n",
      "        \"url\": \"https://api.github.com/repos/rollup/plugins/issues/1535/reactions\",\n",
      "        \"total_count\": 0,\n",
      "        \"+1\": 0,\n",
      "        \"-1\": 0,\n",
      "        \"laugh\": 0,\n",
      "        \"hooray\": 0,\n",
      "        \"confused\": 0,\n",
      "        \"heart\": 0,\n",
      "        \"rocket\": 0,\n",
      "        \"eyes\": 0\n",
      "    },\n",
      "    \"timeline_url\": \"https://api.github.com/repos/rollup/plugins/issues/1535/timeline\",\n",
      "    \"performed_via_github_app\": null,\n",
      "    \"state_reason\": \"completed\"\n",
      "}\n"
     ]
    }
   ],
   "source": [
    "print(\"Issue content example:\")\n",
    "for event in repo_to_events[repo]:\n",
    "    event_type = event['html_url'].split('/')[-2]\n",
    "    if event_type == 'issues':\n",
    "        print(json.dumps(event, indent=4))\n",
    "        break"
   ],
   "metadata": {
    "collapsed": false,
    "ExecuteTime": {
     "end_time": "2023-07-18T16:25:10.565142Z",
     "start_time": "2023-07-18T16:25:10.561344Z"
    }
   }
  },
  {
   "cell_type": "code",
   "execution_count": 66,
   "outputs": [
    {
     "name": "stdout",
     "output_type": "stream",
     "text": [
      "Pull request content example:\n",
      "{\n",
      "    \"url\": \"https://api.github.com/repos/rollup/plugins/issues/1537\",\n",
      "    \"repository_url\": \"https://api.github.com/repos/rollup/plugins\",\n",
      "    \"labels_url\": \"https://api.github.com/repos/rollup/plugins/issues/1537/labels{/name}\",\n",
      "    \"comments_url\": \"https://api.github.com/repos/rollup/plugins/issues/1537/comments\",\n",
      "    \"events_url\": \"https://api.github.com/repos/rollup/plugins/issues/1537/events\",\n",
      "    \"html_url\": \"https://github.com/rollup/plugins/pull/1537\",\n",
      "    \"id\": 1802117165,\n",
      "    \"node_id\": \"PR_kwDODCLPqc5VX0iY\",\n",
      "    \"number\": 1537,\n",
      "    \"title\": \"fix(commonjs): preserve this reference in the child class\",\n",
      "    \"user\": {\n",
      "        \"login\": \"TrickyPi\",\n",
      "        \"id\": 33021497,\n",
      "        \"node_id\": \"MDQ6VXNlcjMzMDIxNDk3\",\n",
      "        \"avatar_url\": \"https://avatars.githubusercontent.com/u/33021497?v=4\",\n",
      "        \"gravatar_id\": \"\",\n",
      "        \"url\": \"https://api.github.com/users/TrickyPi\",\n",
      "        \"html_url\": \"https://github.com/TrickyPi\",\n",
      "        \"followers_url\": \"https://api.github.com/users/TrickyPi/followers\",\n",
      "        \"following_url\": \"https://api.github.com/users/TrickyPi/following{/other_user}\",\n",
      "        \"gists_url\": \"https://api.github.com/users/TrickyPi/gists{/gist_id}\",\n",
      "        \"starred_url\": \"https://api.github.com/users/TrickyPi/starred{/owner}{/repo}\",\n",
      "        \"subscriptions_url\": \"https://api.github.com/users/TrickyPi/subscriptions\",\n",
      "        \"organizations_url\": \"https://api.github.com/users/TrickyPi/orgs\",\n",
      "        \"repos_url\": \"https://api.github.com/users/TrickyPi/repos\",\n",
      "        \"events_url\": \"https://api.github.com/users/TrickyPi/events{/privacy}\",\n",
      "        \"received_events_url\": \"https://api.github.com/users/TrickyPi/received_events\",\n",
      "        \"type\": \"User\",\n",
      "        \"site_admin\": false\n",
      "    },\n",
      "    \"labels\": [],\n",
      "    \"state\": \"closed\",\n",
      "    \"locked\": false,\n",
      "    \"assignee\": null,\n",
      "    \"assignees\": [],\n",
      "    \"milestone\": null,\n",
      "    \"comments\": 0,\n",
      "    \"created_at\": \"2023-07-13T04:07:53Z\",\n",
      "    \"updated_at\": \"2023-07-15T12:33:54Z\",\n",
      "    \"closed_at\": \"2023-07-15T12:33:53Z\",\n",
      "    \"author_association\": \"CONTRIBUTOR\",\n",
      "    \"active_lock_reason\": null,\n",
      "    \"draft\": false,\n",
      "    \"pull_request\": {\n",
      "        \"url\": \"https://api.github.com/repos/rollup/plugins/pulls/1537\",\n",
      "        \"html_url\": \"https://github.com/rollup/plugins/pull/1537\",\n",
      "        \"diff_url\": \"https://github.com/rollup/plugins/pull/1537.diff\",\n",
      "        \"patch_url\": \"https://github.com/rollup/plugins/pull/1537.patch\",\n",
      "        \"merged_at\": \"2023-07-15T12:33:53Z\"\n",
      "    },\n",
      "    \"body\": \"<!--\\r\\n  \\u26a1\\ufe0f katchow! We \\u2764\\ufe0f Pull Requests!\\r\\n\\r\\n  If you remove or skip this template, you'll make the \\ud83d\\udc3c sad and the mighty god\\r\\n  of Github will appear and pile-drive the close button from a great height\\r\\n  while making animal noises.\\r\\n\\r\\n  Pull Request Requirements:\\r\\n  * Please include tests to illustrate the problem this PR resolves.\\r\\n  * Please lint your changes by running `npm run lint` before creating a PR.\\r\\n  * Please update the documentation in `/docs` where necessary\\r\\n\\r\\n  Please place an x (no spaces - [x]) in all [ ] that apply.\\r\\n-->\\r\\n\\r\\n<!-- the plugin(s) this PR is for -->\\r\\n\\r\\n## Rollup Plugin Name: `{name}`\\r\\n\\r\\nThis PR contains:\\r\\n\\r\\n- [x] bugfix\\r\\n- [ ] feature\\r\\n- [ ] refactor\\r\\n- [ ] documentation\\r\\n- [ ] other\\r\\n\\r\\nAre tests included?\\r\\n\\r\\n- [x] yes (_bugfixes and features will not be merged without tests_)\\r\\n- [ ] no\\r\\n\\r\\nBreaking Changes?\\r\\n\\r\\n- [ ] yes (_breaking changes will not be merged unless absolutely necessary_)\\r\\n- [x] no\\r\\n\\r\\nIf yes, then include \\\"BREAKING CHANGES:\\\" in the first commit message body, followed by a description of what is breaking. \\r\\n\\r\\nList any relevant issue numbers:\\r\\n\\r\\nresolves rollup/rollup#5062\\r\\n\\r\\n### Description\\r\\nusing `Reflect.construct` function to create an instance in the `getAugmentedNamespace` function for preserving `this` reference in the child class.\\r\\n<!--\\r\\n  Please be thorough and clearly explain the problem being solved.\\r\\n  * If this PR adds a feature, look for previous discussion on the feature by searching the issues first.\\r\\n  * Is this PR related to an issue?\\r\\n-->\\r\\n\",\n",
      "    \"reactions\": {\n",
      "        \"url\": \"https://api.github.com/repos/rollup/plugins/issues/1537/reactions\",\n",
      "        \"total_count\": 0,\n",
      "        \"+1\": 0,\n",
      "        \"-1\": 0,\n",
      "        \"laugh\": 0,\n",
      "        \"hooray\": 0,\n",
      "        \"confused\": 0,\n",
      "        \"heart\": 0,\n",
      "        \"rocket\": 0,\n",
      "        \"eyes\": 0\n",
      "    },\n",
      "    \"timeline_url\": \"https://api.github.com/repos/rollup/plugins/issues/1537/timeline\",\n",
      "    \"performed_via_github_app\": null,\n",
      "    \"state_reason\": null\n",
      "}\n"
     ]
    }
   ],
   "source": [
    "print(\"Pull request content example:\")\n",
    "for event in repo_to_events[repo]:\n",
    "    event_type = event['html_url'].split('/')[-2]\n",
    "    if event_type == 'pull':\n",
    "        print(json.dumps(event, indent=4))\n",
    "        break"
   ],
   "metadata": {
    "collapsed": false,
    "ExecuteTime": {
     "end_time": "2023-07-18T16:25:10.572260Z",
     "start_time": "2023-07-18T16:25:10.570209Z"
    }
   }
  },
  {
   "cell_type": "code",
   "execution_count": 67,
   "outputs": [],
   "source": [
    "repo_to_events_count = defaultdict(dict)\n",
    "for repo, events in repo_to_events.items():\n",
    "    events_count = {\n",
    "        'issues': 0,\n",
    "        'pull': 0,\n",
    "    }\n",
    "    for event in events:\n",
    "        event_type = event['html_url'].split('/')[-2]\n",
    "        events_count[event_type] += 1\n",
    "\n",
    "    repo_to_events_count[repo] = events_count"
   ],
   "metadata": {
    "collapsed": false,
    "ExecuteTime": {
     "end_time": "2023-07-18T16:29:13.791012Z",
     "start_time": "2023-07-18T16:25:10.813672Z"
    }
   }
  },
  {
   "cell_type": "code",
   "execution_count": 68,
   "outputs": [
    {
     "name": "stdout",
     "output_type": "stream",
     "text": [
      "4343\n"
     ]
    }
   ],
   "source": [
    "print(len(repo_to_events_count))"
   ],
   "metadata": {
    "collapsed": false,
    "ExecuteTime": {
     "end_time": "2023-07-18T16:29:13.805006Z",
     "start_time": "2023-07-18T16:29:13.798312Z"
    }
   }
  },
  {
   "cell_type": "code",
   "execution_count": 69,
   "outputs": [],
   "source": [
    "import pandas as pd\n",
    "df = pd.DataFrame.from_dict(repo_to_events_count)"
   ],
   "metadata": {
    "collapsed": false,
    "ExecuteTime": {
     "end_time": "2023-07-18T16:29:13.958804Z",
     "start_time": "2023-07-18T16:29:13.950320Z"
    }
   }
  },
  {
   "cell_type": "code",
   "execution_count": 70,
   "outputs": [
    {
     "data": {
      "text/plain": "Index(['issues', 'pull'], dtype='object')"
     },
     "execution_count": 70,
     "metadata": {},
     "output_type": "execute_result"
    }
   ],
   "source": [
    "dft = df.transpose()\n",
    "dft.columns"
   ],
   "metadata": {
    "collapsed": false,
    "ExecuteTime": {
     "end_time": "2023-07-18T16:29:13.988693Z",
     "start_time": "2023-07-18T16:29:13.984610Z"
    }
   }
  },
  {
   "cell_type": "code",
   "execution_count": 70,
   "outputs": [],
   "source": [],
   "metadata": {
    "collapsed": false,
    "ExecuteTime": {
     "end_time": "2023-07-18T16:29:13.991915Z",
     "start_time": "2023-07-18T16:29:13.990165Z"
    }
   }
  },
  {
   "cell_type": "code",
   "execution_count": 71,
   "outputs": [
    {
     "data": {
      "text/plain": "(0.0, 10000.0)"
     },
     "execution_count": 71,
     "metadata": {},
     "output_type": "execute_result"
    },
    {
     "data": {
      "text/plain": "<Figure size 640x480 with 1 Axes>",
      "image/png": "[encoded data removed]"
     },
     "metadata": {},
     "output_type": "display_data"
    }
   ],
   "source": [
    "import seaborn as sns\n",
    "import matplotlib.pyplot as plt\n",
    "\n",
    "sns.histplot(data=dft, x='issues', kde=True, bins=50)\n",
    "plt.xlim(0, 10000)"
   ],
   "metadata": {
    "collapsed": false,
    "ExecuteTime": {
     "end_time": "2023-07-18T16:29:14.270078Z",
     "start_time": "2023-07-18T16:29:14.001848Z"
    }
   }
  },
  {
   "cell_type": "code",
   "execution_count": 71,
   "outputs": [],
   "source": [],
   "metadata": {
    "collapsed": false,
    "ExecuteTime": {
     "end_time": "2023-07-18T16:29:14.274444Z",
     "start_time": "2023-07-18T16:29:14.270773Z"
    }
   }
  }
 ],
 "metadata": {
  "kernelspec": {
   "display_name": "Python 3",
   "language": "python",
   "name": "python3"
  },
  "language_info": {
   "codemirror_mode": {
    "name": "ipython",
    "version": 2
   },
   "file_extension": ".py",
   "mimetype": "text/x-python",
   "name": "python",
   "nbconvert_exporter": "python",
   "pygments_lexer": "ipython2",
   "version": "2.7.6"
  }
 },
 "nbformat": 4,
 "nbformat_minor": 0
}
